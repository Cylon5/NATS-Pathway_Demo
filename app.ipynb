{
 "cells": [
  {
   "cell_type": "markdown",
   "metadata": {},
   "source": [
    "# Wind Turbine Blade Monitoring System\n",
    "\n",
    "This notebook uses Pathway to process real-time wind turbine telemetry data from a NATS message queue, detect anomalies, and publish alerts back to NATS."
   ]
  },
  {
   "cell_type": "code",
   "execution_count": null,
   "metadata": {},
   "outputs": [],
   "source": [
    "import pathway as pw"
   ]
  },
  {
   "cell_type": "markdown",
   "metadata": {},
   "source": [
    "## 1. Define Data Schema\n",
    "\n",
    "First, we define the schema for the incoming telemetry data. This ensures that the data is structured correctly."
   ]
  },
  {
   "cell_type": "code",
   "execution_count": null,
   "metadata": {},
   "outputs": [],
   "source": [
    "class TelemetrySchema(pw.Schema):\n",
    "   turbine_id: str\n",
    "   timestamp: str\n",
    "   blade_length: float\n",
    "   blade_width: float\n",
    "   vibration: int\n",
    "   temperature: int"
   ]
  },
  {
   "cell_type": "markdown",
   "metadata": {},
   "source": [
    "## 2. Ingest Data from NATS\n",
    "\n",
    "We connect to the NATS server and read the telemetry data from the `turbine.telemetry` topic."
   ]
  },
  {
   "cell_type": "code",
   "execution_count": null,
   "metadata": {},
   "outputs": [],
   "source": [
    "telemetry_table = pw.io.nats.read(\n",
    "   uri=\"nats://host.docker.internal:4222\",\n",
    "   topic=\"turbine.telemetry\",\n",
    "   format=\"json\",\n",
    "   schema=TelemetrySchema\n",
    ")"
   ]
  },
  {
   "cell_type": "markdown",
   "metadata": {},
   "source": [
    "## 3. Define Alerting Logic\n",
    "\n",
    "A User-Defined Function (UDF) is created to check for conditions that should trigger an alert."
   ]
  },
  {
   "cell_type": "code",
   "execution_count": null,
   "metadata": {},
   "outputs": [],
   "source": [
    "@pw.udf\n",
    "def detect_alerts(vibration, temperature):\n",
    "   alerts = []\n",
    "   if vibration > 80:\n",
    "       alerts.append(\"High Vibration Detected\")\n",
    "   if temperature > 100:\n",
    "       alerts.append(\"High Temperature Detected\")\n",
    "   return alerts"
   ]
  },
  {
   "cell_type": "markdown",
   "metadata": {},
   "source": [
    "## 4. Process Data and Generate Alerts\n",
    "\n",
    "The `detect_alerts` UDF is applied to the incoming data stream. We then filter out any entries that didn't generate an alert."
   ]
  },
  {
   "cell_type": "code",
   "execution_count": null,
   "metadata": {},
   "outputs": [],
   "source": [
    "alerts = telemetry_table.select(\n",
    "   turbine_id=pw.this.turbine_id,\n",
    "   timestamp=pw.this.timestamp,\n",
    "   alert_type=detect_alerts(\n",
    "       pw.this.vibration,\n",
    "       pw.this.temperature\n",
    "   )\n",
    ")\n",
    "\n",
    "# Filter rows with no alerts\n",
    "alerts = alerts.flatten(pw.this.alert_type).filter(pw.this.alert_type.is_not_none())"
   ]
  },
  {
   "cell_type": "markdown",
   "metadata": {},
   "source": [
    "## 5. Output Alerts to NATS\n",
    "\n",
    "The generated alerts are published to the `turbine.alerts` topic on the NATS server."
   ]
  },
  {
   "cell_type": "code",
   "execution_count": null,
   "metadata": {},
   "outputs": [],
   "source": [
    "pw.io.nats.write(\n",
    "   alerts.select(\n",
    "       turbine_id=pw.this.turbine_id,\n",
    "       timestamp=pw.this.timestamp,\n",
    "       alert_type=pw.this.alert_type\n",
    "   ),\n",
    "   uri=\"nats://host.docker.internal:4222\",\n",
    "   topic=\"turbine.alerts\",\n",
    "   format=\"json\"\n",
    ")"
   ]
  },
  {
   "cell_type": "markdown",
   "metadata": {},
   "source": [
    "## 6. Run the Pipeline\n",
    "\n",
    "Finally, we start the Pathway pipeline to begin processing data."
   ]
  },
  {
   "cell_type": "code",
   "execution_count": null,
   "metadata": {},
   "outputs": [],
   "source": [
    "pw.run()"
   ]
  }
 ],
 "metadata": {
  "kernelspec": {
   "display_name": "Python 3",
   "language": "python",
   "name": "python3"
  },
  "language_info": {
   "codemirror_mode": {
    "name": "ipython",
    "version": 3
   },
   "file_extension": ".py",
   "mimetype": "text/x-python",
   "name": "python",
   "nbconvert_exporter": "python",
   "pygments_lexer": "ipython3",
   "version": "3.9.7"
  }
 },
 "nbformat": 4,
 "nbformat_minor": 4
}