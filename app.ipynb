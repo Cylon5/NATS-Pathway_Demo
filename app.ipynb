{
 "cells": [
  {
   "cell_type": "markdown",
   "metadata": {},
   "source": [
    "# Fleet Management Alerting System\n",
    "\n",
    "This notebook uses Pathway to process real-time vehicle telemetry data from a NATS message queue, detect anomalies, and publish alerts back to NATS."
   ]
  },
  {
   "cell_type": "code",
   "execution_count": null,
   "metadata": {},
   "outputs": [],
   "source": [
    "import pathway as pw"
   ]
  },
  {
   "cell_type": "markdown",
   "metadata": {},
   "source": [
    "## 1. Define Data Schema\n",
    "\n",
    "First, we define the schema for the incoming telemetry data. This ensures that the data is structured correctly."
   ]
  },
  {
   "cell_type": "code",
   "execution_count": null,
   "metadata": {},
   "outputs": [],
   "source": [
    "class TelemetrySchema(pw.Schema):\n",
    "   vehicle_id: str\n",
    "   timestamp: str\n",
    "   lat: float\n",
    "   lon: float\n",
    "   engine_temp: int\n",
    "   fuel_level: int\n",
    "   brake_health: int"
   ]
  },
  {
   "cell_type": "markdown",
   "metadata": {},
   "source": [
    "## 2. Ingest Data from NATS\n",
    "\n",
    "We connect to the NATS server and read the telemetry data from the `fleet.telemetry` topic."
   ]
  },
  {
   "cell_type": "code",
   "execution_count": null,
   "metadata": {},
   "outputs": [],
   "source": [
    "telemetry_table = pw.io.nats.read(\n",
    "   uri=\"nats://host.docker.internal:4222\",\n",
    "   topic=\"fleet.telemetry\",\n",
    "   format=\"json\",\n",
    "   schema=TelemetrySchema\n",
    ")"
   ]
  },
  {
   "cell_type": "markdown",
   "metadata": {},
   "source": [
    "## 3. Define Alerting Logic\n",
    "\n",
    "A User-Defined Function (UDF) is created to check for conditions that should trigger an alert."
   ]
  },
  {
   "cell_type": "code",
   "execution_count": null,
   "metadata": {},
   "outputs": [],
   "source": [
    "@pw.udf\n",
    "def detect_alerts(engine_temp, fuel_level, brake_health):\n",
    "   alerts = []\n",
    "   if engine_temp > 100:\n",
    "       alerts.append(\"High Engine Temp\")\n",
    "   if fuel_level < 20:\n",
    "       alerts.append(\"Low Fuel Level\")\n",
    "   if brake_health < 60:\n",
    "       alerts.append(\"Poor Brake Health\")\n",
    "   return alerts"
   ]
  },
  {
   "cell_type": "markdown",
   "metadata": {},
   "source": [
    "## 4. Process Data and Generate Alerts\n",
    "\n",
    "The `detect_alerts` UDF is applied to the incoming data stream. We then filter out any entries that didn't generate an alert."
   ]
  },
  {
   "cell_type": "code",
   "execution_count": null,
   "metadata": {},
   "outputs": [],
   "source": [
    "alerts = telemetry_table.select(\n",
    "   vehicle_id=pw.this.vehicle_id,\n",
    "   timestamp=pw.this.timestamp,\n",
    "   alert_type=detect_alerts(\n",
    "       pw.this.engine_temp,\n",
    "       pw.this.fuel_level,\n",
    "       pw.this.brake_health\n",
    "   )\n",
    ")\n",
    "\n",
    "# Filter rows with no alerts\n",
    "alerts = alerts.flatten(pw.this.alert_type).filter(pw.this.alert_type.is_not_none())"
   ]
  },
  {
   "cell_type": "markdown",
   "metadata": {},
   "source": [
    "## 5. Output Alerts to NATS\n",
    "\n",
    "The generated alerts are published to the `fleet.alerts` topic on the NATS server."
   ]
  },
  {
   "cell_type": "code",
   "execution_count": null,
   "metadata": {},
   "outputs": [],
   "source": [
    "pw.io.nats.write(\n",
    "   alerts.select(\n",
    "       vehicle_id=pw.this.vehicle_id,\n",
    "       timestamp=pw.this.timestamp,\n",
    "       alert_type=pw.this.alert_type\n",
    "   ),\n",
    "   uri=\"nats://host.docker.internal:4222\",\n",
    "   topic=\"fleet.alerts\",\n",
    "   format=\"json\"\n",
    ")"
   ]
  },
  {
   "cell_type": "markdown",
   "metadata": {},
   "source": [
    "## 6. Run the Pipeline\n",
    "\n",
    "Finally, we start the Pathway pipeline to begin processing data."
   ]
  },
  {
   "cell_type": "code",
   "execution_count": null,
   "metadata": {},
   "outputs": [],
   "source": [
    "pw.run()"
   ]
  }
 ],
 "metadata": {
  "kernelspec": {
   "display_name": "Python 3",
   "language": "python",
   "name": "python3"
  },
  "language_info": {
   "codemirror_mode": {
    "name": "ipython",
    "version": 3
   },
   "file_extension": ".py",
   "mimetype": "text/x-python",
   "name": "python",
   "nbconvert_exporter": "python",
   "pygments_lexer": "ipython3",
   "version": "3.9.7"
  }
 },
 "nbformat": 4,
 "nbformat_minor": 4
}